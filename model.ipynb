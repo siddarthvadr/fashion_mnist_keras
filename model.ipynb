{
  "cells": [
    {
      "cell_type": "markdown",
      "metadata": {
        "colab_type": "text",
        "id": "view-in-github"
      },
      "source": [
        "<a href=\"https://colab.research.google.com/github/siddarthvadr/fashion_mnist_keras/blob/main/model.ipynb\" target=\"_parent\"><img src=\"https://colab.research.google.com/assets/colab-badge.svg\" alt=\"Open In Colab\"/></a>"
      ]
    },
    {
      "cell_type": "code",
      "execution_count": 1,
      "metadata": {
        "colab": {
          "base_uri": "https://localhost:8080/"
        },
        "id": "H-PqWQPbq4XT",
        "outputId": "11808fe5-72a4-4a53-e78f-2536020e80b9"
      },
      "outputs": [
        {
          "name": "stdout",
          "output_type": "stream",
          "text": [
            "Tensorflow version 2.11.0\n",
            "Keras version 2.11.0\n"
          ]
        }
      ],
      "source": [
        "import numpy as np\n",
        "import tensorflow as tf\n",
        "from tensorflow import keras\n",
        "import matplotlib.pyplot as plt\n",
        "from functools import partial\n",
        "np.random.seed(42)\n",
        "tf.random.set_seed(42)\n",
        "print('Tensorflow version', tf.__version__)\n",
        "print('Keras version', keras.__version__)"
      ]
    },
    {
      "cell_type": "code",
      "execution_count": 2,
      "metadata": {
        "colab": {
          "base_uri": "https://localhost:8080/"
        },
        "id": "Le7w6u4RrvlS",
        "outputId": "3dd3d008-77ee-4974-82f4-c263ae10d5c6"
      },
      "outputs": [
        {
          "name": "stdout",
          "output_type": "stream",
          "text": [
            "Downloading data from https://storage.googleapis.com/tensorflow/tf-keras-datasets/train-labels-idx1-ubyte.gz\n",
            "29515/29515 [==============================] - 0s 0us/step\n",
            "Downloading data from https://storage.googleapis.com/tensorflow/tf-keras-datasets/train-images-idx3-ubyte.gz\n",
            "26421880/26421880 [==============================] - 0s 0us/step\n",
            "Downloading data from https://storage.googleapis.com/tensorflow/tf-keras-datasets/t10k-labels-idx1-ubyte.gz\n",
            "5148/5148 [==============================] - 0s 0us/step\n",
            "Downloading data from https://storage.googleapis.com/tensorflow/tf-keras-datasets/t10k-images-idx3-ubyte.gz\n",
            "4422102/4422102 [==============================] - 0s 0us/step\n"
          ]
        }
      ],
      "source": [
        "fashion_mnist = keras.datasets.fashion_mnist\n",
        "(X_train_full, y_train_full), (X_test, y_test) = fashion_mnist.load_data()"
      ]
    },
    {
      "cell_type": "code",
      "execution_count": 3,
      "metadata": {
        "colab": {
          "base_uri": "https://localhost:8080/"
        },
        "id": "zEDpo4BOr0Tx",
        "outputId": "69da92af-9116-469e-a179-0a8853b5e02c"
      },
      "outputs": [
        {
          "data": {
            "text/plain": [
              "(60000, 28, 28)"
            ]
          },
          "execution_count": 3,
          "metadata": {},
          "output_type": "execute_result"
        }
      ],
      "source": [
        "X_train_full.shape"
      ]
    },
    {
      "cell_type": "code",
      "execution_count": 4,
      "metadata": {
        "colab": {
          "base_uri": "https://localhost:8080/",
          "height": 283
        },
        "id": "0EUVC7Adr3Z2",
        "outputId": "c150d2ae-0dec-4709-dae4-b49697075ae5"
      },
      "outputs": [
        {
          "name": "stdout",
          "output_type": "stream",
          "text": [
            "Item 0 - 9\n"
          ]
        },
        {
          "data": {
            "image/png": "[encoded data removed]",
            "text/plain": [
              "<Figure size 432x288 with 1 Axes>"
            ]
          },
          "metadata": {
            "needs_background": "light"
          },
          "output_type": "display_data"
        }
      ],
      "source": [
        "plt.imshow(X_train_full[0], cmap='Greys')\n",
        "print(f'Item 0 - {y_train_full[0]}')"
      ]
    },
    {
      "cell_type": "code",
      "execution_count": 5,
      "metadata": {
        "colab": {
          "base_uri": "https://localhost:8080/"
        },
        "id": "5lrsnO_9r5wQ",
        "outputId": "081d60e7-74cb-481a-eed5-76efd60a98fd"
      },
      "outputs": [
        {
          "name": "stdout",
          "output_type": "stream",
          "text": [
            "Train data shape - (55000, 28, 28)\n",
            "Validation data shape - (5000, 28, 28)\n",
            "Test data shape - (10000, 28, 28)\n"
          ]
        }
      ],
      "source": [
        "X_train, X_valid = X_train_full[:55000], X_train_full[55000:]\n",
        "y_train, y_valid = y_train_full[:55000], y_train_full[55000:]\n",
        "\n",
        "print(f'Train data shape - {X_train.shape}')\n",
        "print(f'Validation data shape - {X_valid.shape}')\n",
        "print(f'Test data shape - {X_test.shape}')"
      ]
    },
    {
      "cell_type": "code",
      "execution_count": 6,
      "metadata": {
        "id": "CUIp02Cir9wS"
      },
      "outputs": [],
      "source": [
        "X_mean = X_train.mean(axis = 0)\n",
        "X_std = X_train.std(axis = 0)\n",
        "X_train = (X_train - X_mean) / X_std\n",
        "X_valid = (X_valid - X_mean) / X_std\n",
        "X_test = (X_test - X_mean) / X_std"
      ]
    },
    {
      "cell_type": "code",
      "execution_count": 7,
      "metadata": {
        "id": "qs0RlOSSsA7z"
      },
      "outputs": [],
      "source": [
        "X_train = X_train[..., np.newaxis]\n",
        "X_valid = X_valid[..., np.newaxis]\n",
        "X_test = X_test[..., np.newaxis]"
      ]
    },
    {
      "cell_type": "code",
      "execution_count": 8,
      "metadata": {
        "colab": {
          "base_uri": "https://localhost:8080/"
        },
        "id": "G0SydIGksDi_",
        "outputId": "a4910c9d-3afe-4df4-9444-38f7a8f64a61"
      },
      "outputs": [
        {
          "name": "stdout",
          "output_type": "stream",
          "text": [
            "Shape of features (55000, 28, 28, 1) (5000, 28, 28, 1) (10000, 28, 28, 1)\n"
          ]
        }
      ],
      "source": [
        "print (\"Shape of features\", X_train.shape, X_valid.shape, X_test.shape)\n"
      ]
    },
    {
      "cell_type": "code",
      "execution_count": 9,
      "metadata": {
        "id": "-nJw7iM3sFj5"
      },
      "outputs": [],
      "source": [
        "DefaultConv2D = partial(keras.layers.Conv2D, kernel_size=3, activation='relu', padding='SAME')"
      ]
    },
    {
      "cell_type": "code",
      "execution_count": 10,
      "metadata": {
        "id": "narZsWmwsIDM"
      },
      "outputs": [],
      "source": [
        "model = keras.models.Sequential([DefaultConv2D(filters=64, kernel_size=7, input_shape=[28,28,1]),\n",
        "                                 keras.layers.MaxPooling2D(pool_size=2), \n",
        "                                 DefaultConv2D(filters=128),  \n",
        "                                 DefaultConv2D(filters=128),\n",
        "                                 keras.layers.MaxPooling2D(pool_size=2),\n",
        "                                 DefaultConv2D(filters=256),\n",
        "                                 DefaultConv2D(filters=256),\n",
        "                                 keras.layers.MaxPooling2D(pool_size=2),\n",
        "                                 keras.layers.Flatten(),\n",
        "                                 keras.layers.Dense(units=128, activation='relu'),\n",
        "                                 keras.layers.Dropout(0.5),\n",
        "                                 keras.layers.Dense(units=64, activation='relu'),\n",
        "                                 keras.layers.Dropout(0.5),\n",
        "                                 keras.layers.Dense(units=10, activation='softmax')])"
      ]
    },
    {
      "cell_type": "code",
      "execution_count": 11,
      "metadata": {
        "id": "FNNhs_4nsK0H"
      },
      "outputs": [],
      "source": [
        "model.compile(loss='sparse_categorical_crossentropy', optimizer='nadam', metrics=['accuracy'])"
      ]
    },
    {
      "cell_type": "code",
      "execution_count": 12,
      "metadata": {
        "colab": {
          "base_uri": "https://localhost:8080/"
        },
        "id": "DsfGuPEWsO6G",
        "outputId": "93e2ed1b-fa40-4fd5-cfdb-926bcd49dccb"
      },
      "outputs": [
        {
          "name": "stdout",
          "output_type": "stream",
          "text": [
            "Epoch 1/3\n",
            "1719/1719 [==============================] - 36s 11ms/step - loss: 0.7175 - accuracy: 0.7517 - val_loss: 0.4174 - val_accuracy: 0.8538\n",
            "Epoch 2/3\n",
            "1719/1719 [==============================] - 16s 9ms/step - loss: 0.4351 - accuracy: 0.8540 - val_loss: 0.3334 - val_accuracy: 0.8788\n",
            "Epoch 3/3\n",
            "1719/1719 [==============================] - 17s 10ms/step - loss: 0.3792 - accuracy: 0.8718 - val_loss: 0.3188 - val_accuracy: 0.8830\n"
          ]
        }
      ],
      "source": [
        "history = model.fit(X_train, y_train, epochs=3, validation_data=(X_valid, y_valid))"
      ]
    },
    {
      "cell_type": "code",
      "execution_count": 13,
      "metadata": {
        "colab": {
          "base_uri": "https://localhost:8080/"
        },
        "id": "z0oV6BEcsRr5",
        "outputId": "9417eea3-c670-4e07-d43c-b6b43c69bf2a"
      },
      "outputs": [
        {
          "name": "stdout",
          "output_type": "stream",
          "text": [
            "313/313 [==============================] - 3s 10ms/step - loss: 0.3406 - accuracy: 0.8751\n"
          ]
        }
      ],
      "source": [
        "results = model.evaluate(X_test, y_test)"
      ]
    },
    {
      "cell_type": "code",
      "execution_count": 14,
      "metadata": {
        "colab": {
          "base_uri": "https://localhost:8080/"
        },
        "id": "TXUSiZhWspMs",
        "outputId": "14e66a97-5c30-48c7-f386-356cb7cc8f1d"
      },
      "outputs": [
        {
          "name": "stdout",
          "output_type": "stream",
          "text": [
            "Accuracy = 87.5%\n"
          ]
        }
      ],
      "source": [
        "print(f'Accuracy = {np.round(results[1]*100, 1)}%')"
      ]
    },
    {
      "cell_type": "code",
      "execution_count": 16,
      "metadata": {
        "colab": {
          "base_uri": "https://localhost:8080/"
        },
        "id": "KPE91m9oss6v",
        "outputId": "393ae97d-52cb-4a90-b866-4b68d1d51302"
      },
      "outputs": [
        {
          "name": "stdout",
          "output_type": "stream",
          "text": [
            "1/1 [==============================] - 0s 83ms/step\n"
          ]
        }
      ],
      "source": [
        "X_new = X_test[10:20]\n",
        "y_pred = model.predict(X_new)"
      ]
    },
    {
      "cell_type": "code",
      "execution_count": 17,
      "metadata": {
        "colab": {
          "base_uri": "https://localhost:8080/"
        },
        "id": "MQ0X5AbDsu9s",
        "outputId": "f518273a-9cf2-420a-e2b1-af6940908f32"
      },
      "outputs": [
        {
          "name": "stdout",
          "output_type": "stream",
          "text": [
            "[4 5 5 3 4 1 2 2 8 0]\n"
          ]
        }
      ],
      "source": [
        "print(np.argmax(y_pred, axis=1))"
      ]
    },
    {
      "cell_type": "code",
      "execution_count": 18,
      "metadata": {
        "colab": {
          "base_uri": "https://localhost:8080/"
        },
        "id": "VH8gFSZBs1Mn",
        "outputId": "b6a96a8e-d77f-4726-f5bd-a6763db75d54"
      },
      "outputs": [
        {
          "name": "stdout",
          "output_type": "stream",
          "text": [
            "[4 5 7 3 4 1 2 4 8 0]\n"
          ]
        }
      ],
      "source": [
        "print(y_test[10:20])"
      ]
    }
  ],
  "metadata": {
    "accelerator": "GPU",
    "colab": {
      "authorship_tag": "ABX9TyMj6NJm815qHfk2mq0RxfRt",
      "include_colab_link": true,
      "provenance": []
    },
    "gpuClass": "standard",
    "kernelspec": {
      "display_name": "Python 3",
      "name": "python3"
    },
    "language_info": {
      "name": "python"
    }
  },
  "nbformat": 4,
  "nbformat_minor": 0
}
